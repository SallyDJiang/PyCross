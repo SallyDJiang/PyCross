{
 "cells": [
  {
   "cell_type": "code",
   "execution_count": 1,
   "metadata": {},
   "outputs": [],
   "source": [
    "import numpy as np\n",
    "import matplotlib.pyplot as plt\n",
    "from matplotlib.widgets import Button"
   ]
  },
  {
   "cell_type": "code",
   "execution_count": null,
   "metadata": {},
   "outputs": [],
   "source": [
    "import numpy as np\n",
    "import matplotlib.pyplot as plt\n",
    "from matplotlib.widgets import Button\n",
    "\n",
    "class Start_Game: \n",
    "    file = \"\"\n",
    "    \n",
    "    def insert_file(self, event):\n",
    "        filename = input(\"Insert Path to File\")\n",
    "        return filename\n",
    "    def no_file(self, event): \n",
    "        pass\n",
    "    \n",
    "    \n",
    "fig =  plt.figure()\n",
    "\n",
    "axfile = plt.axes([0.2, 0.05, 0.25, 0.25])\n",
    "axnofile = plt.axes([0.51, 0.05, 0.25, 0.25])\n",
    "\n",
    "file_loader = Start_Game()\n",
    "\n",
    "bfile = Button(axfile, 'Insert File')\n",
    "bnofile = Button(axnofile, 'No File')\n",
    "\n",
    "bfile.on_clicked(file_loader.insert_file)\n",
    "bnofile.on_clicked(file_loader.no_file)\n",
    "\n",
    "plt.show()"
   ]
  },
  {
   "cell_type": "code",
   "execution_count": 21,
   "metadata": {},
   "outputs": [],
   "source": [
    "class Start_Game: \n",
    "    file = \"\"\n",
    "    \n",
    "    def insert_file(self, event):\n",
    "        filename = input(\"Insert Path to File\")\n",
    "        return filename\n",
    "    def no_file(self, event): \n",
    "        pass"
   ]
  },
  {
   "cell_type": "code",
   "execution_count": 26,
   "metadata": {},
   "outputs": [
    {
     "data": {
      "text/plain": [
       "0"
      ]
     },
     "execution_count": 26,
     "metadata": {},
     "output_type": "execute_result"
    },
    {
     "data": {
      "image/png": "[encoded data removed]",
      "text/plain": [
       "<Figure size 432x288 with 2 Axes>"
      ]
     },
     "metadata": {},
     "output_type": "display_data"
    }
   ],
   "source": [
    "fig =  plt.figure()\n",
    "\n",
    "axfile = plt.axes([0.2, 0.05, 0.25, 0.25])\n",
    "axnofile = plt.axes([0.51, 0.05, 0.25, 0.25])\n",
    "\n",
    "file_loader = Start_Game()\n",
    "\n",
    "bfile = Button(axfile, 'Insert File')\n",
    "bnofile = Button(axnofile, 'No File')\n",
    "\n",
    "bfile.on_clicked(file_loader.insert_file)\n",
    "bnofile.on_clicked(file_loader.no_file)"
   ]
  },
  {
   "cell_type": "code",
   "execution_count": null,
   "metadata": {},
   "outputs": [],
   "source": [
    "\n",
    "bfile = Button(axfile, 'Next')\n",
    "bfile.on_clicked(callback.next)\n",
    "\n",
    "\n",
    "bnofile = Button(axnofile, 'Previous')\n",
    "bnofile.on_clicked(callback.prev)"
   ]
  },
  {
   "cell_type": "code",
   "execution_count": 29,
   "metadata": {},
   "outputs": [],
   "source": []
  },
  {
   "cell_type": "code",
   "execution_count": null,
   "metadata": {},
   "outputs": [],
   "source": [
    "filename = input(\"Please Place in a file\")\n"
   ]
  },
  {
   "cell_type": "code",
   "execution_count": 41,
   "metadata": {},
   "outputs": [
    {
     "name": "stdout",
     "output_type": "stream",
     "text": [
      "Image Provided, Returning Image....\n"
     ]
    },
    {
     "data": {
      "text/plain": [
       "50"
      ]
     },
     "execution_count": 41,
     "metadata": {},
     "output_type": "execute_result"
    }
   ],
   "source": [
    "image_array = load_image(img=\"rocket.png\", plot=False, window_sizex=50, window_sizey=50)\n",
    "l, w = np.shape(image_array)\n",
    "l"
   ]
  },
  {
   "cell_type": "code",
   "execution_count": 49,
   "metadata": {},
   "outputs": [
    {
     "name": "stdout",
     "output_type": "stream",
     "text": [
      "Please insert name of desired file or 'None' \n",
      "Recommended: .png, .jpeg \n",
      "10\n"
     ]
    }
   ],
   "source": [
    "filename = str(input(\"Please insert name of desired file or 'None' \\nRecommended: .png, .jpeg \\n\"))\n"
   ]
  },
  {
   "cell_type": "code",
   "execution_count": null,
   "metadata": {},
   "outputs": [],
   "source": []
  },
  {
   "cell_type": "code",
   "execution_count": null,
   "metadata": {},
   "outputs": [],
   "source": [
    "filename = input(\"Please insert name of desired file: (.png, .jpeg, ... or None)\")\n",
    "if filename == \"None\":\n",
    "    print(\"Generating Random Image to Play\")\n",
    "    image_array = load_image(img=None, plot=False, window_sizex=size, window_sizey=size)\n",
    "    \n",
    "else: \n",
    "\n",
    "    make_game = str(input(\"Would you like to make a game with this image? (Y/N)\"))\n",
    "\n",
    "    if make_game == \"Y\": \n",
    "        size = int(input(\"How big would you like the window?\"))\n",
    "\n",
    "        image_array = load_image(img=filename, plot=False, window_sizex=size, window_sizey=size)\n",
    "\n",
    "\n",
    "        print(\"Making Game...\")\n",
    "        length, width = np.shape(image_array)\n",
    "\n",
    "        row_hint = []\n",
    "        column_hint = []\n",
    "\n",
    "        for i in np.arange(len(image_array)):\n",
    "            row_hint.append(get_hint(image_array[i]))\n",
    "            column_hint.append(get_hint(image_array.T[i]))\n",
    "        plot_hints(row_hint, column_hint, length, width)\n",
    "\n",
    "        plt.show()\n",
    "\n",
    "    elif make_game == \"N\": \n",
    "        print(\"Not Making Game, plotting image\")\n",
    "        plt.imshow(image_array, cmap=\"Greys\")\n",
    "        plt.show()\n",
    "\n",
    "\n",
    "    else: \n",
    "        print(\"Please enter Y or N\")"
   ]
  },
  {
   "cell_type": "code",
   "execution_count": null,
   "metadata": {},
   "outputs": [],
   "source": []
  },
  {
   "cell_type": "code",
   "execution_count": 75,
   "metadata": {},
   "outputs": [
    {
     "data": {
      "text/plain": [
       "<matplotlib.image.AxesImage at 0x7f900b70edc0>"
      ]
     },
     "execution_count": 75,
     "metadata": {},
     "output_type": "execute_result"
    },
    {
     "data": {
      "image/png": "[encoded data removed]",
      "text/plain": [
       "<Figure size 432x288 with 1 Axes>"
      ]
     },
     "metadata": {
      "needs_background": "light"
     },
     "output_type": "display_data"
    }
   ],
   "source": [
    "\n",
    "plt.imshow(np.array(img2bw(np.array(Image.open(\"images/star.png\").resize((15, 15))))))"
   ]
  },
  {
   "cell_type": "code",
   "execution_count": null,
   "metadata": {},
   "outputs": [],
   "source": []
  },
  {
   "cell_type": "code",
   "execution_count": null,
   "metadata": {},
   "outputs": [],
   "source": []
  },
  {
   "cell_type": "code",
   "execution_count": null,
   "metadata": {},
   "outputs": [],
   "source": []
  },
  {
   "cell_type": "code",
   "execution_count": null,
   "metadata": {},
   "outputs": [],
   "source": []
  }
 ],
 "metadata": {
  "kernelspec": {
   "display_name": "Python 3",
   "language": "python",
   "name": "python3"
  },
  "language_info": {
   "codemirror_mode": {
    "name": "ipython",
    "version": 3
   },
   "file_extension": ".py",
   "mimetype": "text/x-python",
   "name": "python",
   "nbconvert_exporter": "python",
   "pygments_lexer": "ipython3",
   "version": "3.8.5"
  }
 },
 "nbformat": 4,
 "nbformat_minor": 4
}
